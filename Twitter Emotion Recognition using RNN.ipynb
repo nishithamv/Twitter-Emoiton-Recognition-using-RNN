{
 "cells": [
  {
   "cell_type": "markdown",
   "metadata": {
    "id": "sp7D0ktn5eiG"
   },
   "source": [
    "# Twitter Emotion Recognition using RNN\n"
   ]
  },
  {
   "cell_type": "markdown",
   "metadata": {
    "id": "cprXxkrMxIgT"
   },
   "source": [
    "### Step1: Setup\n",
    "\n",
    "1. Installing Hugging Face's nlp package\n",
    "2. Importing libraries"
   ]
  },
  {
   "cell_type": "code",
   "execution_count": 1,
   "metadata": {
    "colab": {
     "base_uri": "https://localhost:8080/"
    },
    "executionInfo": {
     "elapsed": 2367,
     "status": "ok",
     "timestamp": 1605027554782,
     "user": {
      "displayName": "Mars Sun",
      "photoUrl": "https://lh3.googleusercontent.com/a-/AOh14GjlS0fkUtwev79qkbKLIa_8lEcQUfBCKGaCcpzo=s64",
      "userId": "16376942400346094856"
     },
     "user_tz": 0
    },
    "id": "5agZRy-45i0g",
    "outputId": "7e278e23-beee-4c2a-ba85-a6b11767441a",
    "scrolled": true
   },
   "outputs": [
    {
     "name": "stdout",
     "output_type": "stream",
     "text": [
      "Requirement already satisfied: nlp in /usr/local/lib/python3.6/dist-packages (0.4.0)\n",
      "Requirement already satisfied: dill in /usr/local/lib/python3.6/dist-packages (from nlp) (0.3.3)\n",
      "Requirement already satisfied: tqdm>=4.27 in /usr/local/lib/python3.6/dist-packages (from nlp) (4.41.1)\n",
      "Requirement already satisfied: dataclasses; python_version < \"3.7\" in /usr/local/lib/python3.6/dist-packages (from nlp) (0.7)\n",
      "Requirement already satisfied: numpy in /usr/local/lib/python3.6/dist-packages (from nlp) (1.18.5)\n",
      "Requirement already satisfied: xxhash in /usr/local/lib/python3.6/dist-packages (from nlp) (2.0.0)\n",
      "Requirement already satisfied: filelock in /usr/local/lib/python3.6/dist-packages (from nlp) (3.0.12)\n",
      "Requirement already satisfied: requests>=2.19.0 in /usr/local/lib/python3.6/dist-packages (from nlp) (2.23.0)\n",
      "Requirement already satisfied: pyarrow>=0.16.0 in /usr/local/lib/python3.6/dist-packages (from nlp) (2.0.0)\n",
      "Requirement already satisfied: pandas in /usr/local/lib/python3.6/dist-packages (from nlp) (1.1.4)\n",
      "Requirement already satisfied: certifi>=2017.4.17 in /usr/local/lib/python3.6/dist-packages (from requests>=2.19.0->nlp) (2020.6.20)\n",
      "Requirement already satisfied: urllib3!=1.25.0,!=1.25.1,<1.26,>=1.21.1 in /usr/local/lib/python3.6/dist-packages (from requests>=2.19.0->nlp) (1.24.3)\n",
      "Requirement already satisfied: chardet<4,>=3.0.2 in /usr/local/lib/python3.6/dist-packages (from requests>=2.19.0->nlp) (3.0.4)\n",
      "Requirement already satisfied: idna<3,>=2.5 in /usr/local/lib/python3.6/dist-packages (from requests>=2.19.0->nlp) (2.10)\n",
      "Requirement already satisfied: pytz>=2017.2 in /usr/local/lib/python3.6/dist-packages (from pandas->nlp) (2018.9)\n",
      "Requirement already satisfied: python-dateutil>=2.7.3 in /usr/local/lib/python3.6/dist-packages (from pandas->nlp) (2.8.1)\n",
      "Requirement already satisfied: six>=1.5 in /usr/local/lib/python3.6/dist-packages (from python-dateutil>=2.7.3->pandas->nlp) (1.15.0)\n"
     ]
    }
   ],
   "source": [
    "!pip install nlp"
   ]
  },
  {
   "cell_type": "code",
   "execution_count": 2,
   "metadata": {
    "colab": {
     "base_uri": "https://localhost:8080/"
    },
    "executionInfo": {
     "elapsed": 4063,
     "status": "ok",
     "timestamp": 1605027556494,
     "user": {
      "displayName": "Mars Sun",
      "photoUrl": "https://lh3.googleusercontent.com/a-/AOh14GjlS0fkUtwev79qkbKLIa_8lEcQUfBCKGaCcpzo=s64",
      "userId": "16376942400346094856"
     },
     "user_tz": 0
    },
    "id": "yKFjWz6e5eiH",
    "outputId": "2e8b3e48-372e-4270-e700-7c1e1c0e97fd"
   },
   "outputs": [
    {
     "name": "stdout",
     "output_type": "stream",
     "text": [
      "Using TensorFlow version 2.3.0\n"
     ]
    }
   ],
   "source": [
    "%matplotlib inline\n",
    "\n",
    "import tensorflow as tf\n",
    "import numpy as np\n",
    "import matplotlib.pyplot as plt\n",
    "import nlp\n",
    "import random\n",
    "\n",
    "\n",
    "def show_history(h):\n",
    "    epochs_trained = len(h.history['loss'])\n",
    "    plt.figure(figsize = (16, 6))\n",
    "\n",
    "    plt.subplot(1, 2, 1)\n",
    "    plt.plot(range(0, epochs_trained), h.history.get('accuracy'), label = 'Training')\n",
    "    plt.plot(range(0, epochs_trained), h.history.get('val_accuracy'), label = 'Validation')\n",
    "    plt.ylim([0., 1.])\n",
    "    plt.xlabel('Epochs')\n",
    "    plt.ylabel('Accuracy')\n",
    "    plt.legend()\n",
    "\n",
    "    plt.subplot(1, 2, 2)\n",
    "    plt.plot(range(0, epochs_trained), h.history.get('loss'), label = 'Training')\n",
    "    plt.plot(range(0, epochs_trained), h.history.get('val_loss'), label = 'Validation')\n",
    "    plt.xlabel('Epochs')\n",
    "    plt.ylabel('Loss')\n",
    "    plt.legend()\n",
    "    plt.show()\n",
    "\n",
    "    \n",
    "def show_confusion_matrix(y_true, y_pred, classes):\n",
    "    from sklearn.metrics import confusion_matrix\n",
    "    \n",
    "    cm = confusion_matrix(y_true, y_pred, normalize = 'true')\n",
    "\n",
    "    plt.figure(figsize = (8, 8))\n",
    "    sp = plt.subplot(1, 1, 1)\n",
    "    ctx = sp.matshow(cm)\n",
    "    plt.xticks(list(range(0, 6)), labels = classes)\n",
    "    plt.yticks(list(range(0, 6)), labels = classes)\n",
    "    plt.colorbar(ctx)\n",
    "    plt.show()\n",
    "\n",
    "    \n",
    "print('Using TensorFlow version', tf.__version__)"
   ]
  },
  {
   "cell_type": "markdown",
   "metadata": {
    "id": "7JsBpezExIga"
   },
   "source": [
    "### Step 2: Importing Data\n",
    "\n",
    "1. Importing the Tweet Emotion dataset\n",
    "2. Creating train, validation and test sets\n",
    "3. Extracting tweets and labels from the examples"
   ]
  },
  {
   "cell_type": "code",
   "execution_count": 3,
   "metadata": {
    "colab": {
     "base_uri": "https://localhost:8080/"
    },
    "executionInfo": {
     "elapsed": 4397,
     "status": "ok",
     "timestamp": 1605027556835,
     "user": {
      "displayName": "Mars Sun",
      "photoUrl": "https://lh3.googleusercontent.com/a-/AOh14GjlS0fkUtwev79qkbKLIa_8lEcQUfBCKGaCcpzo=s64",
      "userId": "16376942400346094856"
     },
     "user_tz": 0
    },
    "id": "0YHOvjAu5eiL",
    "outputId": "8b8376f6-433c-4034-f9ac-704e4cbce747"
   },
   "outputs": [
    {
     "name": "stderr",
     "output_type": "stream",
     "text": [
      "Using custom data configuration default\n"
     ]
    }
   ],
   "source": [
    "dataset = nlp.load_dataset('emotion')"
   ]
  },
  {
   "cell_type": "code",
   "execution_count": 4,
   "metadata": {
    "colab": {
     "base_uri": "https://localhost:8080/"
    },
    "executionInfo": {
     "elapsed": 4393,
     "status": "ok",
     "timestamp": 1605027556836,
     "user": {
      "displayName": "Mars Sun",
      "photoUrl": "https://lh3.googleusercontent.com/a-/AOh14GjlS0fkUtwev79qkbKLIa_8lEcQUfBCKGaCcpzo=s64",
      "userId": "16376942400346094856"
     },
     "user_tz": 0
    },
    "id": "2s0h541FxIgc",
    "outputId": "c3bd26a6-edb8-4760-f6a1-46a85077f6ad"
   },
   "outputs": [
    {
     "data": {
      "text/plain": [
       "{'test': Dataset(features: {'text': Value(dtype='string', id=None), 'label': Value(dtype='string', id=None)}, num_rows: 2000),\n",
       " 'train': Dataset(features: {'text': Value(dtype='string', id=None), 'label': Value(dtype='string', id=None)}, num_rows: 16000),\n",
       " 'validation': Dataset(features: {'text': Value(dtype='string', id=None), 'label': Value(dtype='string', id=None)}, num_rows: 2000)}"
      ]
     },
     "execution_count": 4,
     "metadata": {
      "tags": []
     },
     "output_type": "execute_result"
    }
   ],
   "source": [
    "dataset"
   ]
  },
  {
   "cell_type": "code",
   "execution_count": 5,
   "metadata": {
    "executionInfo": {
     "elapsed": 4389,
     "status": "ok",
     "timestamp": 1605027556837,
     "user": {
      "displayName": "Mars Sun",
      "photoUrl": "https://lh3.googleusercontent.com/a-/AOh14GjlS0fkUtwev79qkbKLIa_8lEcQUfBCKGaCcpzo=s64",
      "userId": "16376942400346094856"
     },
     "user_tz": 0
    },
    "id": "z7eCnxU25eiN"
   },
   "outputs": [],
   "source": [
    "train = dataset['train']\n",
    "val = dataset['validation']\n",
    "test = dataset['test']"
   ]
  },
  {
   "cell_type": "code",
   "execution_count": 6,
   "metadata": {
    "executionInfo": {
     "elapsed": 4385,
     "status": "ok",
     "timestamp": 1605027556837,
     "user": {
      "displayName": "Mars Sun",
      "photoUrl": "https://lh3.googleusercontent.com/a-/AOh14GjlS0fkUtwev79qkbKLIa_8lEcQUfBCKGaCcpzo=s64",
      "userId": "16376942400346094856"
     },
     "user_tz": 0
    },
    "id": "oDYXMfZy5eiP"
   },
   "outputs": [],
   "source": [
    "def get_tweet(data):\n",
    "  tweets = [x['text'] for x in data]\n",
    "  labels = [x['label'] for x in data]\n",
    "  return tweets,labels"
   ]
  },
  {
   "cell_type": "code",
   "execution_count": 7,
   "metadata": {
    "executionInfo": {
     "elapsed": 4896,
     "status": "ok",
     "timestamp": 1605027557352,
     "user": {
      "displayName": "Mars Sun",
      "photoUrl": "https://lh3.googleusercontent.com/a-/AOh14GjlS0fkUtwev79qkbKLIa_8lEcQUfBCKGaCcpzo=s64",
      "userId": "16376942400346094856"
     },
     "user_tz": 0
    },
    "id": "jeq3-vSB5eiR"
   },
   "outputs": [],
   "source": [
    "tweets, labels = get_tweet(train)"
   ]
  },
  {
   "cell_type": "code",
   "execution_count": 8,
   "metadata": {
    "colab": {
     "base_uri": "https://localhost:8080/"
    },
    "executionInfo": {
     "elapsed": 4892,
     "status": "ok",
     "timestamp": 1605027557353,
     "user": {
      "displayName": "Mars Sun",
      "photoUrl": "https://lh3.googleusercontent.com/a-/AOh14GjlS0fkUtwev79qkbKLIa_8lEcQUfBCKGaCcpzo=s64",
      "userId": "16376942400346094856"
     },
     "user_tz": 0
    },
    "id": "bHD3Tk0J5eiU",
    "outputId": "4777b4ff-fead-461c-81e5-3ef126dbe2ff"
   },
   "outputs": [
    {
     "data": {
      "text/plain": [
       "('i didnt feel humiliated', 'sadness')"
      ]
     },
     "execution_count": 8,
     "metadata": {
      "tags": []
     },
     "output_type": "execute_result"
    }
   ],
   "source": [
    "tweets[0], labels[0]"
   ]
  },
  {
   "cell_type": "markdown",
   "metadata": {
    "id": "gcAflLv6xIgp"
   },
   "source": [
    "### Step 3: Tokenizer\n",
    "\n",
    "1. Tokenizing the tweets"
   ]
  },
  {
   "cell_type": "code",
   "execution_count": 9,
   "metadata": {
    "executionInfo": {
     "elapsed": 4887,
     "status": "ok",
     "timestamp": 1605027557354,
     "user": {
      "displayName": "Mars Sun",
      "photoUrl": "https://lh3.googleusercontent.com/a-/AOh14GjlS0fkUtwev79qkbKLIa_8lEcQUfBCKGaCcpzo=s64",
      "userId": "16376942400346094856"
     },
     "user_tz": 0
    },
    "id": "qfX5-ResxIgq"
   },
   "outputs": [],
   "source": [
    "from tensorflow.keras.preprocessing.text import Tokenizer"
   ]
  },
  {
   "cell_type": "code",
   "execution_count": 10,
   "metadata": {
    "executionInfo": {
     "elapsed": 5242,
     "status": "ok",
     "timestamp": 1605027557712,
     "user": {
      "displayName": "Mars Sun",
      "photoUrl": "https://lh3.googleusercontent.com/a-/AOh14GjlS0fkUtwev79qkbKLIa_8lEcQUfBCKGaCcpzo=s64",
      "userId": "16376942400346094856"
     },
     "user_tz": 0
    },
    "id": "cckUvwBo5eif"
   },
   "outputs": [],
   "source": [
    "tokenizer = Tokenizer(num_words = 10000, oov_token = '<UNK>')\n",
    "tokenizer.fit_on_texts(tweets)"
   ]
  },
  {
   "cell_type": "code",
   "execution_count": 11,
   "metadata": {
    "colab": {
     "base_uri": "https://localhost:8080/"
    },
    "executionInfo": {
     "elapsed": 5238,
     "status": "ok",
     "timestamp": 1605027557714,
     "user": {
      "displayName": "Mars Sun",
      "photoUrl": "https://lh3.googleusercontent.com/a-/AOh14GjlS0fkUtwev79qkbKLIa_8lEcQUfBCKGaCcpzo=s64",
      "userId": "16376942400346094856"
     },
     "user_tz": 0
    },
    "id": "KwJwRGr3BAAA",
    "outputId": "c5904e0f-8694-4c37-96f6-54f36ad14a2f"
   },
   "outputs": [
    {
     "data": {
      "text/plain": [
       "[[2, 139, 3, 679]]"
      ]
     },
     "execution_count": 11,
     "metadata": {
      "tags": []
     },
     "output_type": "execute_result"
    }
   ],
   "source": [
    "tokenizer.texts_to_sequences([tweets[0]])"
   ]
  },
  {
   "cell_type": "code",
   "execution_count": 12,
   "metadata": {
    "colab": {
     "base_uri": "https://localhost:8080/",
     "height": 35
    },
    "executionInfo": {
     "elapsed": 5231,
     "status": "ok",
     "timestamp": 1605027557715,
     "user": {
      "displayName": "Mars Sun",
      "photoUrl": "https://lh3.googleusercontent.com/a-/AOh14GjlS0fkUtwev79qkbKLIa_8lEcQUfBCKGaCcpzo=s64",
      "userId": "16376942400346094856"
     },
     "user_tz": 0
    },
    "id": "4EXP2yKoBfGx",
    "outputId": "1dbd3368-a793-422d-beff-d673356bd221"
   },
   "outputs": [
    {
     "data": {
      "application/vnd.google.colaboratory.intrinsic+json": {
       "type": "string"
      },
      "text/plain": [
       "'i didnt feel humiliated'"
      ]
     },
     "execution_count": 12,
     "metadata": {
      "tags": []
     },
     "output_type": "execute_result"
    }
   ],
   "source": [
    "tweets[0]"
   ]
  },
  {
   "cell_type": "markdown",
   "metadata": {
    "id": "i3Bqm7b2xIgu"
   },
   "source": [
    "### Step 4: Padding and Truncating Sequences\n",
    "\n",
    "1. Checking length of the tweets\n",
    "2. Creating padded sequences"
   ]
  },
  {
   "cell_type": "code",
   "execution_count": 13,
   "metadata": {
    "colab": {
     "base_uri": "https://localhost:8080/",
     "height": 265
    },
    "executionInfo": {
     "elapsed": 5256,
     "status": "ok",
     "timestamp": 1605027557888,
     "user": {
      "displayName": "Mars Sun",
      "photoUrl": "https://lh3.googleusercontent.com/a-/AOh14GjlS0fkUtwev79qkbKLIa_8lEcQUfBCKGaCcpzo=s64",
      "userId": "16376942400346094856"
     },
     "user_tz": 0
    },
    "id": "mLvf_WFZxIgu",
    "outputId": "9a557830-a935-48fe-cd69-f9b3cb1bf726"
   },
   "outputs": [
    {
     "data": {
      "image/png": "[encoded data removed]",
      "text/plain": [
       "<Figure size 432x288 with 1 Axes>"
      ]
     },
     "metadata": {
      "needs_background": "light",
      "tags": []
     },
     "output_type": "display_data"
    }
   ],
   "source": [
    "lengths = [len(t.split(' ')) for t in tweets]\n",
    "plt.hist(lengths, bins = len(set(lengths)))\n",
    "plt.show()"
   ]
  },
  {
   "cell_type": "code",
   "execution_count": 14,
   "metadata": {
    "executionInfo": {
     "elapsed": 5250,
     "status": "ok",
     "timestamp": 1605027557889,
     "user": {
      "displayName": "Mars Sun",
      "photoUrl": "https://lh3.googleusercontent.com/a-/AOh14GjlS0fkUtwev79qkbKLIa_8lEcQUfBCKGaCcpzo=s64",
      "userId": "16376942400346094856"
     },
     "user_tz": 0
    },
    "id": "EOi5lIE3xIgx"
   },
   "outputs": [],
   "source": [
    "maxlen = 50\n",
    "from tensorflow.keras.preprocessing.sequence import pad_sequences"
   ]
  },
  {
   "cell_type": "code",
   "execution_count": 15,
   "metadata": {
    "executionInfo": {
     "elapsed": 5354,
     "status": "ok",
     "timestamp": 1605027558087,
     "user": {
      "displayName": "Mars Sun",
      "photoUrl": "https://lh3.googleusercontent.com/a-/AOh14GjlS0fkUtwev79qkbKLIa_8lEcQUfBCKGaCcpzo=s64",
      "userId": "16376942400346094856"
     },
     "user_tz": 0
    },
    "id": "Q9J_Iemf5eiq"
   },
   "outputs": [],
   "source": [
    "def get_sequences(tokenizer, tweets):\n",
    "  sequences = tokenizer.texts_to_sequences(tweets)\n",
    "  padded = pad_sequences(sequences, truncating = 'post', padding = 'post', maxlen = maxlen)\n",
    "  return padded"
   ]
  },
  {
   "cell_type": "code",
   "execution_count": 16,
   "metadata": {
    "executionInfo": {
     "elapsed": 5580,
     "status": "ok",
     "timestamp": 1605027558318,
     "user": {
      "displayName": "Mars Sun",
      "photoUrl": "https://lh3.googleusercontent.com/a-/AOh14GjlS0fkUtwev79qkbKLIa_8lEcQUfBCKGaCcpzo=s64",
      "userId": "16376942400346094856"
     },
     "user_tz": 0
    },
    "id": "eglH77ky5ei0"
   },
   "outputs": [],
   "source": [
    "padded_train_seq = get_sequences(tokenizer, tweets)"
   ]
  },
  {
   "cell_type": "code",
   "execution_count": 17,
   "metadata": {
    "colab": {
     "base_uri": "https://localhost:8080/"
    },
    "executionInfo": {
     "elapsed": 5574,
     "status": "ok",
     "timestamp": 1605027558318,
     "user": {
      "displayName": "Mars Sun",
      "photoUrl": "https://lh3.googleusercontent.com/a-/AOh14GjlS0fkUtwev79qkbKLIa_8lEcQUfBCKGaCcpzo=s64",
      "userId": "16376942400346094856"
     },
     "user_tz": 0
    },
    "id": "iGR473HA5ei7",
    "outputId": "66d72264-f352-4ead-d573-59dadba58d7c"
   },
   "outputs": [
    {
     "data": {
      "text/plain": [
       "array([  2, 139,   3, 679,   0,   0,   0,   0,   0,   0,   0,   0,   0,\n",
       "         0,   0,   0,   0,   0,   0,   0,   0,   0,   0,   0,   0,   0,\n",
       "         0,   0,   0,   0,   0,   0,   0,   0,   0,   0,   0,   0,   0,\n",
       "         0,   0,   0,   0,   0,   0,   0,   0,   0,   0,   0], dtype=int32)"
      ]
     },
     "execution_count": 17,
     "metadata": {
      "tags": []
     },
     "output_type": "execute_result"
    }
   ],
   "source": [
    "padded_train_seq[0]"
   ]
  },
  {
   "cell_type": "markdown",
   "metadata": {
    "id": "BURhOX_KxIg8"
   },
   "source": [
    "### Step 5: Preparing the Labels\n",
    "\n",
    "1. Creating classes to index and index to classes dictionaries\n",
    "2. Converting text labels to numeric labels"
   ]
  },
  {
   "cell_type": "code",
   "execution_count": 18,
   "metadata": {
    "colab": {
     "base_uri": "https://localhost:8080/"
    },
    "executionInfo": {
     "elapsed": 5568,
     "status": "ok",
     "timestamp": 1605027558319,
     "user": {
      "displayName": "Mars Sun",
      "photoUrl": "https://lh3.googleusercontent.com/a-/AOh14GjlS0fkUtwev79qkbKLIa_8lEcQUfBCKGaCcpzo=s64",
      "userId": "16376942400346094856"
     },
     "user_tz": 0
    },
    "id": "SufT2bpD5ejE",
    "outputId": "1d465e55-d1b3-4f3a-fe9c-d971769b0345"
   },
   "outputs": [
    {
     "name": "stdout",
     "output_type": "stream",
     "text": [
      "{'anger', 'joy', 'sadness', 'surprise', 'love', 'fear'}\n"
     ]
    }
   ],
   "source": [
    "classes = set(labels)\n",
    "print(classes)"
   ]
  },
  {
   "cell_type": "code",
   "execution_count": 19,
   "metadata": {
    "colab": {
     "base_uri": "https://localhost:8080/",
     "height": 265
    },
    "executionInfo": {
     "elapsed": 6006,
     "status": "ok",
     "timestamp": 1605027558764,
     "user": {
      "displayName": "Mars Sun",
      "photoUrl": "https://lh3.googleusercontent.com/a-/AOh14GjlS0fkUtwev79qkbKLIa_8lEcQUfBCKGaCcpzo=s64",
      "userId": "16376942400346094856"
     },
     "user_tz": 0
    },
    "id": "rpwzL88I7YSm",
    "outputId": "2ab58c87-8558-4938-cd70-02115a4e78e8"
   },
   "outputs": [
    {
     "data": {
      "image/png": "[encoded data removed]",
      "text/plain": [
       "<Figure size 432x288 with 1 Axes>"
      ]
     },
     "metadata": {
      "needs_background": "light",
      "tags": []
     },
     "output_type": "display_data"
    }
   ],
   "source": [
    "plt.hist(labels,bins = 11)\n",
    "plt.show()"
   ]
  },
  {
   "cell_type": "code",
   "execution_count": 20,
   "metadata": {
    "executionInfo": {
     "elapsed": 6001,
     "status": "ok",
     "timestamp": 1605027558765,
     "user": {
      "displayName": "Mars Sun",
      "photoUrl": "https://lh3.googleusercontent.com/a-/AOh14GjlS0fkUtwev79qkbKLIa_8lEcQUfBCKGaCcpzo=s64",
      "userId": "16376942400346094856"
     },
     "user_tz": 0
    },
    "id": "dNLF6rXL5ejN"
   },
   "outputs": [],
   "source": [
    "class_to_index = dict((c, i) for i, c in enumerate(classes))\n",
    "index_to_class = dict((v, k) for k, v in class_to_index.items())"
   ]
  },
  {
   "cell_type": "code",
   "execution_count": 21,
   "metadata": {
    "colab": {
     "base_uri": "https://localhost:8080/"
    },
    "executionInfo": {
     "elapsed": 5997,
     "status": "ok",
     "timestamp": 1605027558765,
     "user": {
      "displayName": "Mars Sun",
      "photoUrl": "https://lh3.googleusercontent.com/a-/AOh14GjlS0fkUtwev79qkbKLIa_8lEcQUfBCKGaCcpzo=s64",
      "userId": "16376942400346094856"
     },
     "user_tz": 0
    },
    "id": "_08InVyM5ejc",
    "outputId": "4cc1411c-966e-4007-9a40-315afc316a10"
   },
   "outputs": [
    {
     "data": {
      "text/plain": [
       "{'anger': 0, 'fear': 5, 'joy': 1, 'love': 4, 'sadness': 2, 'surprise': 3}"
      ]
     },
     "execution_count": 21,
     "metadata": {
      "tags": []
     },
     "output_type": "execute_result"
    }
   ],
   "source": [
    "class_to_index"
   ]
  },
  {
   "cell_type": "code",
   "execution_count": 22,
   "metadata": {
    "colab": {
     "base_uri": "https://localhost:8080/"
    },
    "executionInfo": {
     "elapsed": 5992,
     "status": "ok",
     "timestamp": 1605027558766,
     "user": {
      "displayName": "Mars Sun",
      "photoUrl": "https://lh3.googleusercontent.com/a-/AOh14GjlS0fkUtwev79qkbKLIa_8lEcQUfBCKGaCcpzo=s64",
      "userId": "16376942400346094856"
     },
     "user_tz": 0
    },
    "id": "gpeDoA6gxIhE",
    "outputId": "2ab36db3-ccf8-44a5-9941-8fcf54d34ba4"
   },
   "outputs": [
    {
     "data": {
      "text/plain": [
       "{0: 'anger', 1: 'joy', 2: 'sadness', 3: 'surprise', 4: 'love', 5: 'fear'}"
      ]
     },
     "execution_count": 22,
     "metadata": {
      "tags": []
     },
     "output_type": "execute_result"
    }
   ],
   "source": [
    "index_to_class"
   ]
  },
  {
   "cell_type": "code",
   "execution_count": 23,
   "metadata": {
    "executionInfo": {
     "elapsed": 5986,
     "status": "ok",
     "timestamp": 1605027558766,
     "user": {
      "displayName": "Mars Sun",
      "photoUrl": "https://lh3.googleusercontent.com/a-/AOh14GjlS0fkUtwev79qkbKLIa_8lEcQUfBCKGaCcpzo=s64",
      "userId": "16376942400346094856"
     },
     "user_tz": 0
    },
    "id": "Jq0WJYsP5ejR"
   },
   "outputs": [],
   "source": [
    "names_to_ids = lambda labels: np.array([class_to_index.get(x) for x in labels])"
   ]
  },
  {
   "cell_type": "code",
   "execution_count": 24,
   "metadata": {
    "colab": {
     "base_uri": "https://localhost:8080/"
    },
    "executionInfo": {
     "elapsed": 5982,
     "status": "ok",
     "timestamp": 1605027558767,
     "user": {
      "displayName": "Mars Sun",
      "photoUrl": "https://lh3.googleusercontent.com/a-/AOh14GjlS0fkUtwev79qkbKLIa_8lEcQUfBCKGaCcpzo=s64",
      "userId": "16376942400346094856"
     },
     "user_tz": 0
    },
    "id": "v15KnrNC5ejW",
    "outputId": "01ca763e-e27f-4945-e8fb-e70c5307d7cf"
   },
   "outputs": [
    {
     "name": "stdout",
     "output_type": "stream",
     "text": [
      "2\n"
     ]
    }
   ],
   "source": [
    "train_labels = names_to_ids(labels)\n",
    "print(train_labels[0])"
   ]
  },
  {
   "cell_type": "markdown",
   "metadata": {
    "id": "c-v0Mnh8xIhP"
   },
   "source": [
    "### Step 6: Creating the Model\n",
    "\n",
    "1. Creating the model\n",
    "2. Compiling the model"
   ]
  },
  {
   "cell_type": "code",
   "execution_count": 26,
   "metadata": {
    "executionInfo": {
     "elapsed": 960,
     "status": "ok",
     "timestamp": 1605028242547,
     "user": {
      "displayName": "Mars Sun",
      "photoUrl": "https://lh3.googleusercontent.com/a-/AOh14GjlS0fkUtwev79qkbKLIa_8lEcQUfBCKGaCcpzo=s64",
      "userId": "16376942400346094856"
     },
     "user_tz": 0
    },
    "id": "OpewXxPQ5eji"
   },
   "outputs": [],
   "source": [
    "model = tf.keras.models.Sequential([\n",
    "      tf.keras.layers.Embedding(10000, 16, input_length = maxlen),\n",
    "      tf.keras.layers.Bidirectional(tf.keras.layers.LSTM(20, return_sequences = True)),\n",
    "      tf.keras.layers.Bidirectional(tf.keras.layers.LSTM(20)),\n",
    "      tf.keras.layers.Dense(6, activation = 'softmax')                              \n",
    "])\n",
    "model.compile(\n",
    "    \n",
    "    loss = 'sparse_categorical_crossentropy',\n",
    "    optimizer = 'adam',\n",
    "    metrics = ['accuracy']\n",
    ")"
   ]
  },
  {
   "cell_type": "code",
   "execution_count": 27,
   "metadata": {
    "colab": {
     "base_uri": "https://localhost:8080/"
    },
    "executionInfo": {
     "elapsed": 162,
     "status": "ok",
     "timestamp": 1605028258060,
     "user": {
      "displayName": "Mars Sun",
      "photoUrl": "https://lh3.googleusercontent.com/a-/AOh14GjlS0fkUtwev79qkbKLIa_8lEcQUfBCKGaCcpzo=s64",
      "userId": "16376942400346094856"
     },
     "user_tz": 0
    },
    "id": "fjPQBIjvIxi3",
    "outputId": "26da92ea-c0e0-40f9-c83b-29235d5afd7f"
   },
   "outputs": [
    {
     "name": "stdout",
     "output_type": "stream",
     "text": [
      "Model: \"sequential_1\"\n",
      "_________________________________________________________________\n",
      "Layer (type)                 Output Shape              Param #   \n",
      "=================================================================\n",
      "embedding_1 (Embedding)      (None, 50, 16)            160000    \n",
      "_________________________________________________________________\n",
      "bidirectional_2 (Bidirection (None, 50, 40)            5920      \n",
      "_________________________________________________________________\n",
      "bidirectional_3 (Bidirection (None, 40)                9760      \n",
      "_________________________________________________________________\n",
      "dense_1 (Dense)              (None, 6)                 246       \n",
      "=================================================================\n",
      "Total params: 175,926\n",
      "Trainable params: 175,926\n",
      "Non-trainable params: 0\n",
      "_________________________________________________________________\n"
     ]
    }
   ],
   "source": [
    "model.summary()"
   ]
  },
  {
   "cell_type": "markdown",
   "metadata": {
    "id": "1HST_CHjxIhR"
   },
   "source": [
    "### Step 7: Training the Model\n",
    "\n",
    "1. Preparing a validation set\n",
    "2. Training the model"
   ]
  },
  {
   "cell_type": "code",
   "execution_count": 28,
   "metadata": {
    "executionInfo": {
     "elapsed": 584,
     "status": "ok",
     "timestamp": 1605028373867,
     "user": {
      "displayName": "Mars Sun",
      "photoUrl": "https://lh3.googleusercontent.com/a-/AOh14GjlS0fkUtwev79qkbKLIa_8lEcQUfBCKGaCcpzo=s64",
      "userId": "16376942400346094856"
     },
     "user_tz": 0
    },
    "id": "Ff7F3hCK5ejm"
   },
   "outputs": [],
   "source": [
    "val_tweets, val_labels = get_tweet(val)\n",
    "val_seq = get_sequences(tokenizer, val_tweets)\n",
    "val_labels = names_to_ids(val_labels)"
   ]
  },
  {
   "cell_type": "code",
   "execution_count": 29,
   "metadata": {
    "colab": {
     "base_uri": "https://localhost:8080/"
    },
    "executionInfo": {
     "elapsed": 161,
     "status": "ok",
     "timestamp": 1605028396163,
     "user": {
      "displayName": "Mars Sun",
      "photoUrl": "https://lh3.googleusercontent.com/a-/AOh14GjlS0fkUtwev79qkbKLIa_8lEcQUfBCKGaCcpzo=s64",
      "userId": "16376942400346094856"
     },
     "user_tz": 0
    },
    "id": "hlMKaZ3H5ejr",
    "outputId": "46e66dda-4456-4e0b-a2ac-381e1fe695c0"
   },
   "outputs": [
    {
     "data": {
      "text/plain": [
       "('im feeling quite sad and sorry for myself but ill snap out of it soon', 2)"
      ]
     },
     "execution_count": 29,
     "metadata": {
      "tags": []
     },
     "output_type": "execute_result"
    }
   ],
   "source": [
    "val_tweets[0], val_labels[0]"
   ]
  },
  {
   "cell_type": "code",
   "execution_count": 30,
   "metadata": {
    "colab": {
     "base_uri": "https://localhost:8080/"
    },
    "executionInfo": {
     "elapsed": 104462,
     "status": "ok",
     "timestamp": 1605028698781,
     "user": {
      "displayName": "Mars Sun",
      "photoUrl": "https://lh3.googleusercontent.com/a-/AOh14GjlS0fkUtwev79qkbKLIa_8lEcQUfBCKGaCcpzo=s64",
      "userId": "16376942400346094856"
     },
     "user_tz": 0
    },
    "id": "bzBqnWQ-5ejw",
    "outputId": "7fbcc4d6-ea6c-45c1-9e1a-b4209b4e5ca3"
   },
   "outputs": [
    {
     "name": "stdout",
     "output_type": "stream",
     "text": [
      "Epoch 1/20\n",
      "500/500 [==============================] - 8s 16ms/step - loss: 1.2523 - accuracy: 0.5146 - val_loss: 0.7588 - val_accuracy: 0.7525\n",
      "Epoch 2/20\n",
      "500/500 [==============================] - 7s 14ms/step - loss: 0.5273 - accuracy: 0.8192 - val_loss: 0.5209 - val_accuracy: 0.8225\n",
      "Epoch 3/20\n",
      "500/500 [==============================] - 7s 14ms/step - loss: 0.3163 - accuracy: 0.8994 - val_loss: 0.4604 - val_accuracy: 0.8590\n",
      "Epoch 4/20\n",
      "500/500 [==============================] - 7s 14ms/step - loss: 0.2143 - accuracy: 0.9344 - val_loss: 0.4074 - val_accuracy: 0.8740\n",
      "Epoch 5/20\n",
      "500/500 [==============================] - 7s 15ms/step - loss: 0.1545 - accuracy: 0.9515 - val_loss: 0.5065 - val_accuracy: 0.8650\n",
      "Epoch 6/20\n",
      "500/500 [==============================] - 7s 15ms/step - loss: 0.1322 - accuracy: 0.9581 - val_loss: 0.3652 - val_accuracy: 0.8845\n",
      "Epoch 7/20\n",
      "500/500 [==============================] - 7s 14ms/step - loss: 0.0985 - accuracy: 0.9676 - val_loss: 0.3308 - val_accuracy: 0.8965\n",
      "Epoch 8/20\n",
      "500/500 [==============================] - 7s 15ms/step - loss: 0.0791 - accuracy: 0.9736 - val_loss: 0.3988 - val_accuracy: 0.8905\n",
      "Epoch 9/20\n",
      "500/500 [==============================] - 7s 14ms/step - loss: 0.0712 - accuracy: 0.9766 - val_loss: 0.3707 - val_accuracy: 0.9005\n",
      "Epoch 10/20\n",
      "500/500 [==============================] - 7s 14ms/step - loss: 0.0634 - accuracy: 0.9786 - val_loss: 0.4216 - val_accuracy: 0.8950\n",
      "Epoch 11/20\n",
      "500/500 [==============================] - 7s 14ms/step - loss: 0.0563 - accuracy: 0.9814 - val_loss: 0.3674 - val_accuracy: 0.9015\n",
      "Epoch 12/20\n",
      "500/500 [==============================] - 7s 14ms/step - loss: 0.0474 - accuracy: 0.9848 - val_loss: 0.4575 - val_accuracy: 0.8920\n",
      "Epoch 13/20\n",
      "500/500 [==============================] - 7s 14ms/step - loss: 0.0498 - accuracy: 0.9840 - val_loss: 0.4050 - val_accuracy: 0.8955\n"
     ]
    }
   ],
   "source": [
    "h = model.fit(\n",
    "    padded_train_seq, train_labels,\n",
    "    validation_data = (val_seq, val_labels),\n",
    "    epochs = 20,\n",
    "    callbacks = [\n",
    "               tf.keras.callbacks.EarlyStopping(monitor = 'val_accuracy', patience = 2)\n",
    "    ]\n",
    ")"
   ]
  },
  {
   "cell_type": "markdown",
   "metadata": {
    "id": "EdsJyMTLxIhX"
   },
   "source": [
    "### Step 8: Evaluating the Model\n",
    "\n",
    "1. Visualizing training history\n",
    "2. Prepraring a test set\n",
    "3. A look at individual predictions on the test set\n",
    "4. A look at all predictions on the test set"
   ]
  },
  {
   "cell_type": "code",
   "execution_count": 31,
   "metadata": {
    "colab": {
     "base_uri": "https://localhost:8080/",
     "height": 392
    },
    "executionInfo": {
     "elapsed": 475,
     "status": "ok",
     "timestamp": 1605028738474,
     "user": {
      "displayName": "Mars Sun",
      "photoUrl": "https://lh3.googleusercontent.com/a-/AOh14GjlS0fkUtwev79qkbKLIa_8lEcQUfBCKGaCcpzo=s64",
      "userId": "16376942400346094856"
     },
     "user_tz": 0
    },
    "id": "ENCfvXeLxIhX",
    "outputId": "748883b5-26b6-4bf0-bd40-c253569a5756"
   },
   "outputs": [
    {
     "data": {
      "image/png": "[encoded data removed]",
      "text/plain": [
       "<Figure size 1152x432 with 2 Axes>"
      ]
     },
     "metadata": {
      "needs_background": "light",
      "tags": []
     },
     "output_type": "display_data"
    }
   ],
   "source": [
    "show_history(h)"
   ]
  },
  {
   "cell_type": "code",
   "execution_count": 32,
   "metadata": {
    "executionInfo": {
     "elapsed": 226,
     "status": "ok",
     "timestamp": 1605028867756,
     "user": {
      "displayName": "Mars Sun",
      "photoUrl": "https://lh3.googleusercontent.com/a-/AOh14GjlS0fkUtwev79qkbKLIa_8lEcQUfBCKGaCcpzo=s64",
      "userId": "16376942400346094856"
     },
     "user_tz": 0
    },
    "id": "kWuzoz8uxIha"
   },
   "outputs": [],
   "source": [
    "test_tweets, test_labels = get_tweet(test)\n",
    "test_seq = get_sequences(tokenizer, test_tweets)\n",
    "test_labels = names_to_ids(test_labels)"
   ]
  },
  {
   "cell_type": "code",
   "execution_count": 33,
   "metadata": {
    "colab": {
     "base_uri": "https://localhost:8080/"
    },
    "executionInfo": {
     "elapsed": 636,
     "status": "ok",
     "timestamp": 1605028905760,
     "user": {
      "displayName": "Mars Sun",
      "photoUrl": "https://lh3.googleusercontent.com/a-/AOh14GjlS0fkUtwev79qkbKLIa_8lEcQUfBCKGaCcpzo=s64",
      "userId": "16376942400346094856"
     },
     "user_tz": 0
    },
    "id": "7vRVJ_2SxIhc",
    "outputId": "1d7c9bef-2f36-4a13-c828-b1cba00630a1"
   },
   "outputs": [
    {
     "name": "stdout",
     "output_type": "stream",
     "text": [
      "63/63 [==============================] - 0s 6ms/step - loss: 0.4029 - accuracy: 0.8985\n"
     ]
    }
   ],
   "source": [
    "model.evaluate(test_seq, test_labels)"
   ]
  },
  {
   "cell_type": "code",
   "execution_count": 48,
   "metadata": {
    "colab": {
     "base_uri": "https://localhost:8080/"
    },
    "executionInfo": {
     "elapsed": 176,
     "status": "ok",
     "timestamp": 1605029420851,
     "user": {
      "displayName": "Mars Sun",
      "photoUrl": "https://lh3.googleusercontent.com/a-/AOh14GjlS0fkUtwev79qkbKLIa_8lEcQUfBCKGaCcpzo=s64",
      "userId": "16376942400346094856"
     },
     "user_tz": 0
    },
    "id": "rh638vHG5ej6",
    "outputId": "26c6dab0-b3af-4b32-849b-a78b47bb539e"
   },
   "outputs": [
    {
     "name": "stdout",
     "output_type": "stream",
     "text": [
      "Sequence: i can t help feeling lucky little do i know\n",
      "Emotion: joy\n",
      "Predicted Emotion: joy\n"
     ]
    }
   ],
   "source": [
    "i = random.randint(0, len(test_labels) - 1)\n",
    "\n",
    "print('Sequence:', test_tweets[i])\n",
    "print('Emotion:', index_to_class[test_labels[i]])\n",
    "\n",
    "p = model.predict(np.expand_dims(test_seq[i], axis = 0))[0]\n",
    "pred_class = index_to_class[np.argmax(p).astype('uint8')]\n",
    "\n",
    "print('Predicted Emotion:', pred_class)"
   ]
  },
  {
   "cell_type": "code",
   "execution_count": 39,
   "metadata": {
    "colab": {
     "base_uri": "https://localhost:8080/"
    },
    "executionInfo": {
     "elapsed": 544,
     "status": "ok",
     "timestamp": 1605029389053,
     "user": {
      "displayName": "Mars Sun",
      "photoUrl": "https://lh3.googleusercontent.com/a-/AOh14GjlS0fkUtwev79qkbKLIa_8lEcQUfBCKGaCcpzo=s64",
      "userId": "16376942400346094856"
     },
     "user_tz": 0
    },
    "id": "hHl5SVCFxIhh",
    "outputId": "42a27712-04f8-4385-d529-d598c2d1cf8a"
   },
   "outputs": [
    {
     "name": "stdout",
     "output_type": "stream",
     "text": [
      "WARNING:tensorflow:From <ipython-input-39-e0fbc6c5dbdf>:1: Sequential.predict_classes (from tensorflow.python.keras.engine.sequential) is deprecated and will be removed after 2021-01-01.\n",
      "Instructions for updating:\n",
      "Please use instead:* `np.argmax(model.predict(x), axis=-1)`,   if your model does multi-class classification   (e.g. if it uses a `softmax` last-layer activation).* `(model.predict(x) > 0.5).astype(\"int32\")`,   if your model does binary classification   (e.g. if it uses a `sigmoid` last-layer activation).\n"
     ]
    }
   ],
   "source": [
    "preds = model.predict_classes(test_seq)"
   ]
  },
  {
   "cell_type": "code",
   "execution_count": 40,
   "metadata": {
    "colab": {
     "base_uri": "https://localhost:8080/",
     "height": 472
    },
    "executionInfo": {
     "elapsed": 542,
     "status": "ok",
     "timestamp": 1605029391731,
     "user": {
      "displayName": "Mars Sun",
      "photoUrl": "https://lh3.googleusercontent.com/a-/AOh14GjlS0fkUtwev79qkbKLIa_8lEcQUfBCKGaCcpzo=s64",
      "userId": "16376942400346094856"
     },
     "user_tz": 0
    },
    "id": "NC8YQ0OexIhj",
    "outputId": "7d3af480-5fa8-4d5a-c238-2a62a0bec500"
   },
   "outputs": [
    {
     "data": {
      "image/png": "[encoded data removed]",
      "text/plain": [
       "<Figure size 576x576 with 2 Axes>"
      ]
     },
     "metadata": {
      "needs_background": "light",
      "tags": []
     },
     "output_type": "display_data"
    }
   ],
   "source": [
    "show_confusion_matrix(test_labels, preds, list(classes))"
   ]
  }
 ],
 "metadata": {
  "accelerator": "GPU",
  "colab": {
   "collapsed_sections": [],
   "name": "Copy of Tweet Emotion Recognition - Learner.ipynb",
   "provenance": [
    {
     "file_id": "1ZfJY10peZyo8NRBhtNJNcIUY_ehJs_Aw",
     "timestamp": 1605029509710
    }
   ]
  },
  "kernelspec": {
   "display_name": "Python 3",
   "language": "python",
   "name": "python3"
  },
  "language_info": {
   "codemirror_mode": {
    "name": "ipython",
    "version": 3
   },
   "file_extension": ".py",
   "mimetype": "text/x-python",
   "name": "python",
   "nbconvert_exporter": "python",
   "pygments_lexer": "ipython3",
   "version": "3.7.4"
  }
 },
 "nbformat": 4,
 "nbformat_minor": 1
}
